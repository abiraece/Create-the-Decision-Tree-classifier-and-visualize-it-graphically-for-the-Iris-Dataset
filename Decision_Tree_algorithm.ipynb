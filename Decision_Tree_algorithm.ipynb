{
 "cells": [
  {
   "cell_type": "markdown",
   "metadata": {},
   "source": [
    "# SPARK INTERN FEB 2021"
   ]
  },
  {
   "cell_type": "markdown",
   "metadata": {},
   "source": [
    "Author Name : ABIRAMI B"
   ]
  },
  {
   "cell_type": "markdown",
   "metadata": {},
   "source": [
    "# Prediction using Decision Tree Algorithm"
   ]
  },
  {
   "cell_type": "markdown",
   "metadata": {},
   "source": [
    "**The purpose is if we feed any new data to this classifier, it would be able to predict the right class accordingly.**\n",
    "\n",
    "**Objective:**\n",
    "    Create the Decision Tree classifier and visualize it graphically."
   ]
  },
  {
   "cell_type": "code",
   "execution_count": 5,
   "metadata": {},
   "outputs": [],
   "source": [
    "# Importing Libraries\n",
    "import numpy as np\n",
    "import pandas as pd\n",
    "import matplotlib.pyplot as plt\n",
    "import seaborn as sns\n",
    "\n",
    "import warnings\n",
    "warnings.filterwarnings('ignore')"
   ]
  },
  {
   "cell_type": "code",
   "execution_count": 49,
   "metadata": {},
   "outputs": [
    {
     "data": {
      "text/html": [
       "<div>\n",
       "<style scoped>\n",
       "    .dataframe tbody tr th:only-of-type {\n",
       "        vertical-align: middle;\n",
       "    }\n",
       "\n",
       "    .dataframe tbody tr th {\n",
       "        vertical-align: top;\n",
       "    }\n",
       "\n",
       "    .dataframe thead th {\n",
       "        text-align: right;\n",
       "    }\n",
       "</style>\n",
       "<table border=\"1\" class=\"dataframe\">\n",
       "  <thead>\n",
       "    <tr style=\"text-align: right;\">\n",
       "      <th></th>\n",
       "      <th>Id</th>\n",
       "      <th>SepalLengthCm</th>\n",
       "      <th>SepalWidthCm</th>\n",
       "      <th>PetalLengthCm</th>\n",
       "      <th>PetalWidthCm</th>\n",
       "      <th>Species</th>\n",
       "    </tr>\n",
       "  </thead>\n",
       "  <tbody>\n",
       "    <tr>\n",
       "      <th>0</th>\n",
       "      <td>1</td>\n",
       "      <td>5.1</td>\n",
       "      <td>3.5</td>\n",
       "      <td>1.4</td>\n",
       "      <td>0.2</td>\n",
       "      <td>Iris-setosa</td>\n",
       "    </tr>\n",
       "    <tr>\n",
       "      <th>1</th>\n",
       "      <td>2</td>\n",
       "      <td>4.9</td>\n",
       "      <td>3.0</td>\n",
       "      <td>1.4</td>\n",
       "      <td>0.2</td>\n",
       "      <td>Iris-setosa</td>\n",
       "    </tr>\n",
       "  </tbody>\n",
       "</table>\n",
       "</div>"
      ],
      "text/plain": [
       "   Id  SepalLengthCm  SepalWidthCm  PetalLengthCm  PetalWidthCm      Species\n",
       "0   1            5.1           3.5            1.4           0.2  Iris-setosa\n",
       "1   2            4.9           3.0            1.4           0.2  Iris-setosa"
      ]
     },
     "execution_count": 49,
     "metadata": {},
     "output_type": "execute_result"
    }
   ],
   "source": [
    "# Loading Dataset:\n",
    "data = pd.read_csv('Iris.csv')\n",
    "data.head(2)"
   ]
  },
  {
   "cell_type": "code",
   "execution_count": 7,
   "metadata": {},
   "outputs": [],
   "source": [
    "# Before building supervised classification model (Decision Tree Algorithm) on the given dataset, \n",
    "# some of Data Preprocessing steps to be done:\n",
    "# 1. Null Value Imputation\n",
    "# 2. Encoding categorical feature to build machine learning model\n",
    "# 3. To build classification model, Outlier treatment is not mandatory."
   ]
  },
  {
   "cell_type": "code",
   "execution_count": 50,
   "metadata": {},
   "outputs": [
    {
     "data": {
      "text/plain": [
       "Id               0\n",
       "SepalLengthCm    0\n",
       "SepalWidthCm     0\n",
       "PetalLengthCm    0\n",
       "PetalWidthCm     0\n",
       "Species          0\n",
       "dtype: int64"
      ]
     },
     "execution_count": 50,
     "metadata": {},
     "output_type": "execute_result"
    }
   ],
   "source": [
    "# Checking for null value imputation:\n",
    "data.isnull().sum()\n",
    "# No null vlaues in the given dataset."
   ]
  },
  {
   "cell_type": "code",
   "execution_count": 42,
   "metadata": {},
   "outputs": [
    {
     "data": {
      "text/plain": [
       "Id                 int64\n",
       "SepalLengthCm    float64\n",
       "SepalWidthCm     float64\n",
       "PetalLengthCm    float64\n",
       "PetalWidthCm     float64\n",
       "Species           object\n",
       "dtype: object"
      ]
     },
     "execution_count": 42,
     "metadata": {},
     "output_type": "execute_result"
    }
   ],
   "source": [
    "# Checking the datatype of all individual features in the given dataset to build machine learning model:\n",
    "data.dtypes\n",
    "\n",
    "# In the given dataset, Species is the only feature which is object in nature of datatype.\n",
    "# To build a machine learning model, all the features in the datatype are numerical in nature.\n",
    "\n",
    "# Data preprocessing \"Encoding\" is used."
   ]
  },
  {
   "cell_type": "code",
   "execution_count": 51,
   "metadata": {},
   "outputs": [
    {
     "data": {
      "text/plain": [
       "Iris-setosa        50\n",
       "Iris-virginica     50\n",
       "Iris-versicolor    50\n",
       "Name: Species, dtype: int64"
      ]
     },
     "execution_count": 51,
     "metadata": {},
     "output_type": "execute_result"
    }
   ],
   "source": [
    "# To check the value counts of \"Species\":\n",
    "data['Species'].value_counts()\n",
    "\n",
    "# Encode or classify the target column \"Species\"."
   ]
  },
  {
   "cell_type": "code",
   "execution_count": 52,
   "metadata": {},
   "outputs": [],
   "source": [
    "# There are three different Species in the target column. Classifying the target column as 0,1,2.\n",
    "\n",
    "data['Species'] = data['Species'].replace({'Iris-setosa':0, 'Iris-virginica':1, 'Iris-versicolor':2})"
   ]
  },
  {
   "cell_type": "code",
   "execution_count": 53,
   "metadata": {},
   "outputs": [
    {
     "data": {
      "text/html": [
       "<div>\n",
       "<style scoped>\n",
       "    .dataframe tbody tr th:only-of-type {\n",
       "        vertical-align: middle;\n",
       "    }\n",
       "\n",
       "    .dataframe tbody tr th {\n",
       "        vertical-align: top;\n",
       "    }\n",
       "\n",
       "    .dataframe thead th {\n",
       "        text-align: right;\n",
       "    }\n",
       "</style>\n",
       "<table border=\"1\" class=\"dataframe\">\n",
       "  <thead>\n",
       "    <tr style=\"text-align: right;\">\n",
       "      <th></th>\n",
       "      <th>SepalLengthCm</th>\n",
       "      <th>SepalWidthCm</th>\n",
       "      <th>PetalLengthCm</th>\n",
       "      <th>PetalWidthCm</th>\n",
       "      <th>Species</th>\n",
       "    </tr>\n",
       "    <tr>\n",
       "      <th>Id</th>\n",
       "      <th></th>\n",
       "      <th></th>\n",
       "      <th></th>\n",
       "      <th></th>\n",
       "      <th></th>\n",
       "    </tr>\n",
       "  </thead>\n",
       "  <tbody>\n",
       "    <tr>\n",
       "      <th>1</th>\n",
       "      <td>5.1</td>\n",
       "      <td>3.5</td>\n",
       "      <td>1.4</td>\n",
       "      <td>0.2</td>\n",
       "      <td>0</td>\n",
       "    </tr>\n",
       "    <tr>\n",
       "      <th>2</th>\n",
       "      <td>4.9</td>\n",
       "      <td>3.0</td>\n",
       "      <td>1.4</td>\n",
       "      <td>0.2</td>\n",
       "      <td>0</td>\n",
       "    </tr>\n",
       "  </tbody>\n",
       "</table>\n",
       "</div>"
      ],
      "text/plain": [
       "    SepalLengthCm  SepalWidthCm  PetalLengthCm  PetalWidthCm  Species\n",
       "Id                                                                   \n",
       "1             5.1           3.5            1.4           0.2        0\n",
       "2             4.9           3.0            1.4           0.2        0"
      ]
     },
     "execution_count": 53,
     "metadata": {},
     "output_type": "execute_result"
    }
   ],
   "source": [
    "# Before building classification model, id in the given dataset are unique in nature. \n",
    "# so we can set it as index for the given dataset.\n",
    "\n",
    "data = data.set_index('Id')\n",
    "data.head(2)"
   ]
  },
  {
   "cell_type": "code",
   "execution_count": 56,
   "metadata": {},
   "outputs": [
    {
     "data": {
      "text/plain": [
       "array([[16,  0,  0],\n",
       "       [ 0, 11,  0],\n",
       "       [ 0,  1, 17]], dtype=int64)"
      ]
     },
     "execution_count": 56,
     "metadata": {},
     "output_type": "execute_result"
    }
   ],
   "source": [
    "# Building Classification model of Decision Tree:\n",
    "from sklearn.model_selection import train_test_split\n",
    "\n",
    "# Hence the target is discrete in nature so building DecisionTreeClassifier model\n",
    "from sklearn.tree import DecisionTreeClassifier\n",
    "from sklearn.metrics import confusion_matrix\n",
    "\n",
    "# Spliting input and output data from the given dataset:\n",
    "inp = data.drop('Species',axis = 1)\n",
    "out = data['Species']\n",
    "\n",
    "# Spliting the data as train,test input and output:\n",
    "xtrain,xtest,ytrain,ytest = train_test_split(inp,out,test_size = 0.3,random_state = 0)\n",
    "\n",
    "# Building the decision tree model:\n",
    "dt = DecisionTreeClassifier()\n",
    "dt.fit(xtrain,ytrain)\n",
    "\n",
    "ypred = dt.predict(xtest)\n",
    "\n",
    "# Finding the Confusion matrix based on ytest and ypred:\n",
    "cm = confusion_matrix(ytest,ypred)\n",
    "cm"
   ]
  },
  {
   "cell_type": "code",
   "execution_count": 59,
   "metadata": {},
   "outputs": [
    {
     "name": "stdout",
     "output_type": "stream",
     "text": [
      "1.0 1.0 1.0\n"
     ]
    }
   ],
   "source": [
    "# For example: if we consider class - 0 ('Iris-setosa') and finding values from confusion matrix.\n",
    "tp_0 = cm[0,0]\n",
    "tn_0 = cm[1,1]+cm[1,2]+cm[2,1]+cm[2,2]\n",
    "fp_0 = cm[0,1]+cm[0,2]\n",
    "fn_0 = cm[1,0]+cm[2,0]\n",
    "\n",
    "precision = tp_0 / (tp_0 + fp_0)\n",
    "recall = tp_0 / (tp_0 + fn_0)\n",
    "f1 = 2*precision*recall / (precision + recall)\n",
    "\n",
    "print(precision,recall,f1)\n",
    "\n",
    "# similarly we can find the theroitical presicion,recall and f1 score value for other two classes."
   ]
  },
  {
   "cell_type": "code",
   "execution_count": 67,
   "metadata": {},
   "outputs": [
    {
     "name": "stdout",
     "output_type": "stream",
     "text": [
      "***************** Calculating Model Accuracy************************************************\n",
      "Accuracy of the model is: 0.9777777777777777\n",
      "*****************Calcaluting Precision,Recall,F1_score through micro avg method**************\n",
      "Micro Precision of the model is: 0.9777777777777777\n",
      "Micro recall of the model is: 0.9777777777777777\n",
      "Micro f1_score of the model is: 0.9777777777777777\n",
      "*****************Calcaluting Precision,Recall,F1_score through macro avg method**************\n",
      "Macro Precision of the model is: 0.9722222222222222\n",
      "Macro recall of the model is: 0.9814814814814815\n",
      "Macro f1_score of the model is: 0.975983436853002\n",
      "*****************Calcaluting Precision,Recall,F1_score through Weighted avg method**************\n",
      "Weighted Precision of the model is: 0.9796296296296295\n",
      "Weighted recall of the model is: 0.9777777777777777\n",
      "Weighted f1_score of the model is: 0.9779434092477569\n",
      "****************************Classification report***********************************************\n",
      "              precision    recall  f1-score   support\n",
      "\n",
      "           0       1.00      1.00      1.00        16\n",
      "           1       0.92      1.00      0.96        11\n",
      "           2       1.00      0.94      0.97        18\n",
      "\n",
      "    accuracy                           0.98        45\n",
      "   macro avg       0.97      0.98      0.98        45\n",
      "weighted avg       0.98      0.98      0.98        45\n",
      "\n"
     ]
    }
   ],
   "source": [
    "# we can find the model quality and performance for mutliclass through micro,macro and weighted method:\n",
    "\n",
    "from sklearn.metrics import accuracy_score,classification_report\n",
    "from sklearn.metrics import precision_score,recall_score,f1_score\n",
    "\n",
    "print('***************** Calculating Model Accuracy************************************************')\n",
    "print('Accuracy of the model is:',accuracy_score(ytest,ypred))\n",
    "\n",
    "\n",
    "print('*****************Calcaluting Precision,Recall,F1_score through micro avg method**************')\n",
    "print('Micro Precision of the model is:',precision_score(ytest,ypred,average = 'micro'))\n",
    "print('Micro recall of the model is:',recall_score(ytest,ypred,average = 'micro'))\n",
    "print('Micro f1_score of the model is:',f1_score(ytest,ypred,average = 'micro'))\n",
    "\n",
    "print('*****************Calcaluting Precision,Recall,F1_score through macro avg method**************')\n",
    "print('Macro Precision of the model is:',precision_score(ytest,ypred,average = 'macro'))\n",
    "print('Macro recall of the model is:',recall_score(ytest,ypred,average = 'macro'))\n",
    "print('Macro f1_score of the model is:',f1_score(ytest,ypred,average = 'macro'))\n",
    "\n",
    "\n",
    "\n",
    "print('*****************Calcaluting Precision,Recall,F1_score through Weighted avg method**************')\n",
    "print('Weighted Precision of the model is:',precision_score(ytest,ypred,average = 'weighted'))\n",
    "print('Weighted recall of the model is:',recall_score(ytest,ypred,average = 'weighted'))\n",
    "print('Weighted f1_score of the model is:',f1_score(ytest,ypred,average = 'weighted'))\n",
    "\n",
    "print('****************************Classification report***********************************************')\n",
    "print(classification_report(ytest,ypred))"
   ]
  },
  {
   "cell_type": "code",
   "execution_count": null,
   "metadata": {},
   "outputs": [],
   "source": [
    "# From the above individual finding of precision,recall and f1 score of all the three classes and classification report,\n",
    "# we can conclude the model performance of the given dataset is approximately 98%."
   ]
  },
  {
   "cell_type": "code",
   "execution_count": 73,
   "metadata": {},
   "outputs": [
    {
     "data": {
      "image/png": "[encoded data removed]",
      "text/plain": [
       "<Figure size 1080x1080 with 1 Axes>"
      ]
     },
     "metadata": {
      "needs_background": "light"
     },
     "output_type": "display_data"
    }
   ],
   "source": [
    "# Visualize the graph:\n",
    "from sklearn import tree\n",
    "\n",
    "plt.figure(figsize = (15,15))\n",
    "tree.plot_tree(dt,fontsize = 15)\n",
    "plt.show()"
   ]
  },
  {
   "cell_type": "code",
   "execution_count": 76,
   "metadata": {},
   "outputs": [
    {
     "name": "stdout",
     "output_type": "stream",
     "text": [
      "Bias error of the model is: 0.039999999999999813\n",
      "Coeff of varaince error is: 0.03402069087198857\n"
     ]
    }
   ],
   "source": [
    "# To calculate bias error and variance error:\n",
    "from sklearn.model_selection import cross_val_score\n",
    "\n",
    "score = cross_val_score(dt,inp,out,cv = 5,scoring = 'accuracy')\n",
    "\n",
    "be = 1 - np.mean(score)\n",
    "cve = np.std(score) / np.mean(score)\n",
    "\n",
    "print('Bias error of the model is:',be)\n",
    "print('Coeff of varaince error is:',cve)"
   ]
  },
  {
   "cell_type": "code",
   "execution_count": 75,
   "metadata": {},
   "outputs": [
    {
     "data": {
      "text/plain": [
       "{'criterion': 'gini', 'max_depth': 4}"
      ]
     },
     "execution_count": 75,
     "metadata": {},
     "output_type": "execute_result"
    }
   ],
   "source": [
    "# to find the best parameteres:\n",
    "from sklearn.model_selection import GridSearchCV\n",
    "\n",
    "param = {'max_depth':[3,4,5,6,7,8,9,10,11],\n",
    "        'criterion':['gini','entropy']} \n",
    "\n",
    "dt = DecisionTreeClassifier()\n",
    "\n",
    "hyp = GridSearchCV(estimator = dt, param_grid = param, cv = 5, scoring = 'accuracy')\n",
    "hyp_mod = hyp.fit(xtrain,ytrain)\n",
    "\n",
    "hyp_mod.best_params_"
   ]
  },
  {
   "cell_type": "code",
   "execution_count": null,
   "metadata": {},
   "outputs": [],
   "source": [
    "# Building the model with 'criterion': 'gini', 'max_depth': 4 maximum model performance can be achevied."
   ]
  },
  {
   "cell_type": "code",
   "execution_count": 77,
   "metadata": {},
   "outputs": [
    {
     "data": {
      "text/plain": [
       "array([0.        , 0.02150464, 0.39766951, 0.58082584])"
      ]
     },
     "execution_count": 77,
     "metadata": {},
     "output_type": "execute_result"
    }
   ],
   "source": [
    "# Building final model:\n",
    "final_dt = DecisionTreeClassifier(**hyp_mod.best_params_)\n",
    "final_dt.fit(xtrain,ytrain)\n",
    "\n",
    "final_dt.feature_importances_"
   ]
  },
  {
   "cell_type": "code",
   "execution_count": 78,
   "metadata": {},
   "outputs": [
    {
     "data": {
      "text/html": [
       "<div>\n",
       "<style scoped>\n",
       "    .dataframe tbody tr th:only-of-type {\n",
       "        vertical-align: middle;\n",
       "    }\n",
       "\n",
       "    .dataframe tbody tr th {\n",
       "        vertical-align: top;\n",
       "    }\n",
       "\n",
       "    .dataframe thead th {\n",
       "        text-align: right;\n",
       "    }\n",
       "</style>\n",
       "<table border=\"1\" class=\"dataframe\">\n",
       "  <thead>\n",
       "    <tr style=\"text-align: right;\">\n",
       "      <th></th>\n",
       "      <th>Feature</th>\n",
       "      <th>Feat_importance</th>\n",
       "    </tr>\n",
       "  </thead>\n",
       "  <tbody>\n",
       "    <tr>\n",
       "      <th>3</th>\n",
       "      <td>PetalWidthCm</td>\n",
       "      <td>0.580826</td>\n",
       "    </tr>\n",
       "    <tr>\n",
       "      <th>2</th>\n",
       "      <td>PetalLengthCm</td>\n",
       "      <td>0.397670</td>\n",
       "    </tr>\n",
       "    <tr>\n",
       "      <th>1</th>\n",
       "      <td>SepalWidthCm</td>\n",
       "      <td>0.021505</td>\n",
       "    </tr>\n",
       "    <tr>\n",
       "      <th>0</th>\n",
       "      <td>SepalLengthCm</td>\n",
       "      <td>0.000000</td>\n",
       "    </tr>\n",
       "  </tbody>\n",
       "</table>\n",
       "</div>"
      ],
      "text/plain": [
       "         Feature  Feat_importance\n",
       "3   PetalWidthCm         0.580826\n",
       "2  PetalLengthCm         0.397670\n",
       "1   SepalWidthCm         0.021505\n",
       "0  SepalLengthCm         0.000000"
      ]
     },
     "execution_count": 78,
     "metadata": {},
     "output_type": "execute_result"
    }
   ],
   "source": [
    "# Business Interpretation:\n",
    "f_mod = pd.DataFrame()\n",
    "\n",
    "f_mod['Feature'] = xtrain.columns\n",
    "f_mod['Feat_importance'] = final_dt.feature_importances_\n",
    "\n",
    "f_mod.sort_values('Feat_importance',ascending = False)"
   ]
  },
  {
   "cell_type": "code",
   "execution_count": null,
   "metadata": {},
   "outputs": [],
   "source": [
    "# From the above Feature importance we can conclude that, \"PetalWidthCm\" has high effect on reducing the gini impurity value.\n",
    "# i.e \"PetalWidthCm\" plays a major role on finding the target.\n",
    "\n",
    "# now we can give any test data to predict the right class."
   ]
  }
 ],
 "metadata": {
  "kernelspec": {
   "display_name": "Python 3",
   "language": "python",
   "name": "python3"
  },
  "language_info": {
   "codemirror_mode": {
    "name": "ipython",
    "version": 3
   },
   "file_extension": ".py",
   "mimetype": "text/x-python",
   "name": "python",
   "nbconvert_exporter": "python",
   "pygments_lexer": "ipython3",
   "version": "3.8.5"
  }
 },
 "nbformat": 4,
 "nbformat_minor": 4
}
